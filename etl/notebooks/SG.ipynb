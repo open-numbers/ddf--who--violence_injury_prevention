{
 "cells": [
  {
   "cell_type": "code",
   "execution_count": 1,
   "metadata": {},
   "outputs": [],
   "source": [
    "import pandas as pd"
   ]
  },
  {
   "cell_type": "code",
   "execution_count": 2,
   "metadata": {},
   "outputs": [],
   "source": [
    "from ddf_utils.str import format_float_digits\n",
    "from functools import partial"
   ]
  },
  {
   "cell_type": "code",
   "execution_count": 3,
   "metadata": {},
   "outputs": [],
   "source": [
    "import os.path as osp"
   ]
  },
  {
   "cell_type": "code",
   "execution_count": 4,
   "metadata": {},
   "outputs": [],
   "source": [
    "import numpy as np"
   ]
  },
  {
   "cell_type": "code",
   "execution_count": 5,
   "metadata": {},
   "outputs": [],
   "source": [
    "format_func = partial(format_float_digits, digits=4)"
   ]
  },
  {
   "cell_type": "code",
   "execution_count": 6,
   "metadata": {},
   "outputs": [],
   "source": [
    "pd.set_option('display.max_rows', 20)"
   ]
  },
  {
   "cell_type": "code",
   "execution_count": null,
   "metadata": {},
   "outputs": [],
   "source": []
  },
  {
   "cell_type": "code",
   "execution_count": 7,
   "metadata": {},
   "outputs": [],
   "source": [
    "sgPath = '../../../../open-numbers/ddf--gapminder--systema_globalis/'"
   ]
  },
  {
   "cell_type": "code",
   "execution_count": null,
   "metadata": {},
   "outputs": [],
   "source": []
  },
  {
   "cell_type": "code",
   "execution_count": 8,
   "metadata": {},
   "outputs": [],
   "source": [
    "geo_mapping = pd.read_csv('../../../../open-numbers/ddf--gapminder--geo_entity_domain/ddf--synonyms--country.csv')"
   ]
  },
  {
   "cell_type": "code",
   "execution_count": 9,
   "metadata": {},
   "outputs": [],
   "source": [
    "geo_mapping = geo_mapping.set_index('synonym')['country'].to_dict()"
   ]
  },
  {
   "cell_type": "code",
   "execution_count": null,
   "metadata": {},
   "outputs": [],
   "source": []
  },
  {
   "cell_type": "code",
   "execution_count": null,
   "metadata": {},
   "outputs": [],
   "source": []
  },
  {
   "cell_type": "code",
   "execution_count": 10,
   "metadata": {},
   "outputs": [],
   "source": [
    "country = pd.read_csv('../../ddf--entities--country.csv')"
   ]
  },
  {
   "cell_type": "code",
   "execution_count": 11,
   "metadata": {},
   "outputs": [],
   "source": [
    "country['geo'] = country['name'].map(geo_mapping)"
   ]
  },
  {
   "cell_type": "code",
   "execution_count": 12,
   "metadata": {},
   "outputs": [
    {
     "data": {
      "text/plain": [
       "array(['dza', 'ago', 'ben', 'bwa', 'bfa', 'bdi', 'cmr', 'cpv', 'caf',\n",
       "       'tcd', 'com', 'cog', 'civ', 'dji', 'egy', 'gnq', 'eri', 'eth',\n",
       "       'gab', 'gmb', 'gha', 'gin', 'gnb', 'ken', 'lso', 'lbr', 'lby',\n",
       "       'mdg', 'mwi', 'mli', 'mrt', 'mus', 'myt', 'mar', 'moz', 'nam',\n",
       "       'ner', 'nga', 'reu', nan, 'rwa', 'stp', 'sen', 'syc', 'sle', 'som',\n",
       "       'zaf', 'ssd', 'sdn', 'swz', 'tgo', 'tun', 'uga', 'tza', 'cod',\n",
       "       'zmb', 'zwe', 'aia', 'atg', 'arg', 'abw', 'bhs', 'brb', 'blz',\n",
       "       'bmu', 'bol', 'bra', 'vgb', 'can', 'cym', 'chl', 'col', 'cri',\n",
       "       'cub', 'dma', 'dom', 'ecu', 'slv', 'flk', 'guf', 'grd', 'glp',\n",
       "       'gtm', 'guy', 'hti', 'hnd', 'jam', 'mtq', 'mex', 'msr', 'ant',\n",
       "       'nic', 'pan', 'pry', 'per', 'pri', 'kna', 'lca', 'spm', 'vct',\n",
       "       'sur', 'tto', 'tca', 'usa', 'vir', 'ury', 'ven', 'afg', 'bhr',\n",
       "       'bgd', 'btn', 'brn', 'khm', 'chn', 'twn', 'cyp', 'prk', 'hkg',\n",
       "       'ind', 'idn', 'irn', 'irq', 'isr', 'jpn', 'jor', 'kwt', 'lao',\n",
       "       'lbn', 'mac', 'mys', 'mdv', 'mng', 'mmr', 'npl', 'pse', 'omn',\n",
       "       'pak', 'phl', 'qat', 'kor', 'sau', 'sgp', 'lka', 'syr', 'tha',\n",
       "       'tur', 'are', 'vnm', 'yem', 'alb', 'arm', 'and', 'aut', 'aze',\n",
       "       'blr', 'bel', 'bih', 'bgr', 'hrv', 'cheslo', 'cze', 'dnk', 'est',\n",
       "       'fin', 'fra', 'geo', 'deu', 'deu_east', 'deu_west', 'grc', 'hun',\n",
       "       'isl', 'irl', 'ita', 'kaz', 'kgz', 'lva', 'ltu', 'lux', 'mkd',\n",
       "       'mlt', 'mco', 'mne', 'nld', 'nor', 'pol', 'prt', 'mda', 'rou',\n",
       "       'rus', 'srb', 'svk', 'smr', 'svn', 'esp', 'swe', 'che', 'tjk',\n",
       "       'tkm', 'ukr', 'ussr', 'gbr', 'uzb', 'yug', 'scg', 'aus', 'cok',\n",
       "       'fji', 'kir', 'mhl', 'fsm', 'nru', 'nzl', 'niu', 'plw', 'png',\n",
       "       'wsm', 'slb', 'ton', 'tuv', 'vut'], dtype=object)"
      ]
     },
     "execution_count": 12,
     "metadata": {},
     "output_type": "execute_result"
    }
   ],
   "source": [
    "country.geo.unique()"
   ]
  },
  {
   "cell_type": "code",
   "execution_count": 13,
   "metadata": {},
   "outputs": [
    {
     "data": {
      "text/html": [
       "<div>\n",
       "<style scoped>\n",
       "    .dataframe tbody tr th:only-of-type {\n",
       "        vertical-align: middle;\n",
       "    }\n",
       "\n",
       "    .dataframe tbody tr th {\n",
       "        vertical-align: top;\n",
       "    }\n",
       "\n",
       "    .dataframe thead th {\n",
       "        text-align: right;\n",
       "    }\n",
       "</style>\n",
       "<table border=\"1\" class=\"dataframe\">\n",
       "  <thead>\n",
       "    <tr style=\"text-align: right;\">\n",
       "      <th></th>\n",
       "      <th>country</th>\n",
       "      <th>name</th>\n",
       "      <th>geo</th>\n",
       "    </tr>\n",
       "  </thead>\n",
       "  <tbody>\n",
       "    <tr>\n",
       "      <th>39</th>\n",
       "      <td>1365</td>\n",
       "      <td>Rodrigues</td>\n",
       "      <td>NaN</td>\n",
       "    </tr>\n",
       "    <tr>\n",
       "      <th>49</th>\n",
       "      <td>1470</td>\n",
       "      <td>Sudan, Former</td>\n",
       "      <td>NaN</td>\n",
       "    </tr>\n",
       "    <tr>\n",
       "      <th>141</th>\n",
       "      <td>3330</td>\n",
       "      <td>Ryu Kyu Islands</td>\n",
       "      <td>NaN</td>\n",
       "    </tr>\n",
       "    <tr>\n",
       "      <th>171</th>\n",
       "      <td>4120</td>\n",
       "      <td>Germany, West Berlin</td>\n",
       "      <td>NaN</td>\n",
       "    </tr>\n",
       "    <tr>\n",
       "      <th>205</th>\n",
       "      <td>4310</td>\n",
       "      <td>United Kingdom, England and Wales</td>\n",
       "      <td>NaN</td>\n",
       "    </tr>\n",
       "    <tr>\n",
       "      <th>206</th>\n",
       "      <td>4320</td>\n",
       "      <td>United Kingdom, Northern Ireland</td>\n",
       "      <td>NaN</td>\n",
       "    </tr>\n",
       "    <tr>\n",
       "      <th>207</th>\n",
       "      <td>4330</td>\n",
       "      <td>United Kingdom, Scotland</td>\n",
       "      <td>NaN</td>\n",
       "    </tr>\n",
       "  </tbody>\n",
       "</table>\n",
       "</div>"
      ],
      "text/plain": [
       "     country                               name  geo\n",
       "39      1365                          Rodrigues  NaN\n",
       "49      1470                      Sudan, Former  NaN\n",
       "141     3330                    Ryu Kyu Islands  NaN\n",
       "171     4120               Germany, West Berlin  NaN\n",
       "205     4310  United Kingdom, England and Wales  NaN\n",
       "206     4320   United Kingdom, Northern Ireland  NaN\n",
       "207     4330           United Kingdom, Scotland  NaN"
      ]
     },
     "execution_count": 13,
     "metadata": {},
     "output_type": "execute_result"
    }
   ],
   "source": [
    "country[pd.isnull(country.geo)]"
   ]
  },
  {
   "cell_type": "code",
   "execution_count": null,
   "metadata": {},
   "outputs": [],
   "source": []
  },
  {
   "cell_type": "code",
   "execution_count": 14,
   "metadata": {},
   "outputs": [],
   "source": [
    "country_mapping = country.set_index('country')['geo'].to_dict()"
   ]
  },
  {
   "cell_type": "code",
   "execution_count": null,
   "metadata": {},
   "outputs": [],
   "source": []
  },
  {
   "cell_type": "code",
   "execution_count": 15,
   "metadata": {},
   "outputs": [],
   "source": [
    "# 014\n",
    "\n",
    "df = pd.read_csv('../../ddf--datapoints--deaths_rate_ages_0_14_years--by--country--year--cause--sex.csv')"
   ]
  },
  {
   "cell_type": "code",
   "execution_count": 16,
   "metadata": {},
   "outputs": [],
   "source": [
    "df = df[df.sex == 0].drop('sex', axis=1)"
   ]
  },
  {
   "cell_type": "code",
   "execution_count": 17,
   "metadata": {},
   "outputs": [],
   "source": [
    "gs = df.groupby('cause', as_index=False)"
   ]
  },
  {
   "cell_type": "code",
   "execution_count": 18,
   "metadata": {},
   "outputs": [],
   "source": [
    "for g, df in gs:\n",
    "    if g == 'traffic':\n",
    "        name = 'traffic_mortality_children_0_14_per_100000_people'\n",
    "    elif g == 'suicide':\n",
    "        name = 'suicide_age_0_14_per_100000_people'\n",
    "    elif g == 'homicide':\n",
    "        name = 'murdered_children_0_14_per_100000_people'\n",
    "        \n",
    "    df_ = df.drop('cause', axis=1)\n",
    "    df_['country'] = df_['country'].map(country_mapping)\n",
    "    df_ = df_.dropna(subset=['country'])\n",
    "    df_.columns = ['geo', 'time', name]\n",
    "    \n",
    "    df_[name] = df_[name].map(format_func)\n",
    "    \n",
    "    df_ = df_.sort_values(by=['geo', 'time'])\n",
    "    \n",
    "    df_.to_csv(osp.join(sgPath, f'ddf--datapoints--{name}--by--geo--time.csv'), index=False)"
   ]
  },
  {
   "cell_type": "code",
   "execution_count": null,
   "metadata": {},
   "outputs": [],
   "source": []
  },
  {
   "cell_type": "code",
   "execution_count": 19,
   "metadata": {},
   "outputs": [],
   "source": [
    "#1529"
   ]
  },
  {
   "cell_type": "code",
   "execution_count": 20,
   "metadata": {},
   "outputs": [],
   "source": [
    "df = pd.read_csv('../../ddf--datapoints--deaths_rate_ages_15_29_years--by--country--year--cause--sex.csv')"
   ]
  },
  {
   "cell_type": "code",
   "execution_count": 21,
   "metadata": {},
   "outputs": [],
   "source": [
    "df = df[df.sex == 0].drop('sex', axis=1)\n",
    "gs = df.groupby('cause', as_index=False)"
   ]
  },
  {
   "cell_type": "code",
   "execution_count": 22,
   "metadata": {},
   "outputs": [],
   "source": [
    "for g, df in gs:\n",
    "    if g == 'traffic':\n",
    "        name = 'traffic_mortality_15_29_per_100000_people'\n",
    "    elif g == 'suicide':\n",
    "        name = 'suicide_age_15_29_per_100000_people'\n",
    "    elif g == 'homicide':\n",
    "        name = 'murdered_15_29_per_100000_people'\n",
    "        \n",
    "    df_ = df.drop('cause', axis=1)\n",
    "    df_['country'] = df_['country'].map(country_mapping)\n",
    "    df_ = df_.dropna(subset=['country'])\n",
    "    df_.columns = ['geo', 'time', name]\n",
    "    \n",
    "    df_[name] = df_[name].map(format_func)\n",
    "    \n",
    "    df_ = df_.sort_values(by=['geo', 'time'])\n",
    "    \n",
    "    df_.to_csv(osp.join(sgPath, f'ddf--datapoints--{name}--by--geo--time.csv'), index=False)"
   ]
  },
  {
   "cell_type": "code",
   "execution_count": 23,
   "metadata": {},
   "outputs": [],
   "source": [
    "#3044"
   ]
  },
  {
   "cell_type": "code",
   "execution_count": 24,
   "metadata": {},
   "outputs": [],
   "source": [
    "df = pd.read_csv('../../ddf--datapoints--deaths_rate_ages_30_44_years--by--country--year--cause--sex.csv')\n",
    "\n",
    "df = df[df.sex == 0].drop('sex', axis=1)\n",
    "gs = df.groupby('cause', as_index=False)"
   ]
  },
  {
   "cell_type": "code",
   "execution_count": 25,
   "metadata": {},
   "outputs": [],
   "source": [
    "for g, df in gs:\n",
    "    if g == 'traffic':\n",
    "        name = 'traffic_mortality_30_44_per_100000_people'\n",
    "    elif g == 'suicide':\n",
    "        name = 'suicide_age_30_44_per_100000_people'\n",
    "    elif g == 'homicide':\n",
    "        name = 'murdered_30_44_per_100000_people'\n",
    "        \n",
    "    df_ = df.drop('cause', axis=1)\n",
    "    df_['country'] = df_['country'].map(country_mapping)\n",
    "    df_ = df_.dropna(subset=['country'])\n",
    "    df_.columns = ['geo', 'time', name]\n",
    "    \n",
    "    df_[name] = df_[name].map(format_func)\n",
    "    \n",
    "    df_ = df_.sort_values(by=['geo', 'time'])\n",
    "    \n",
    "    df_.to_csv(osp.join(sgPath, f'ddf--datapoints--{name}--by--geo--time.csv'), index=False)"
   ]
  },
  {
   "cell_type": "code",
   "execution_count": null,
   "metadata": {},
   "outputs": [],
   "source": []
  },
  {
   "cell_type": "code",
   "execution_count": 26,
   "metadata": {},
   "outputs": [],
   "source": [
    "#4559"
   ]
  },
  {
   "cell_type": "code",
   "execution_count": 27,
   "metadata": {},
   "outputs": [],
   "source": [
    "df = pd.read_csv('../../ddf--datapoints--deaths_rate_ages_45_59_years--by--country--year--cause--sex.csv')\n",
    "\n",
    "df = df[df.sex == 0].drop('sex', axis=1)\n",
    "gs = df.groupby('cause', as_index=False)"
   ]
  },
  {
   "cell_type": "code",
   "execution_count": 28,
   "metadata": {},
   "outputs": [],
   "source": [
    "for g, df in gs:\n",
    "    if g == 'traffic':\n",
    "        name = 'traffic_mortality_45_59_per_100000_people'\n",
    "    elif g == 'suicide':\n",
    "        name = 'suicide_age_45_59_per_100000_people'\n",
    "    elif g == 'homicide':\n",
    "        name = 'murdered_45_59_per_100000_people'\n",
    "        \n",
    "    df_ = df.drop('cause', axis=1)\n",
    "    df_['country'] = df_['country'].map(country_mapping)\n",
    "    df_ = df_.dropna(subset=['country'])\n",
    "    df_.columns = ['geo', 'time', name]\n",
    "    \n",
    "    df_[name] = df_[name].map(format_func)\n",
    "    \n",
    "    df_ = df_.sort_values(by=['geo', 'time'])\n",
    "    \n",
    "    df_.to_csv(osp.join(sgPath, f'ddf--datapoints--{name}--by--geo--time.csv'), index=False)"
   ]
  },
  {
   "cell_type": "code",
   "execution_count": null,
   "metadata": {},
   "outputs": [],
   "source": []
  },
  {
   "cell_type": "code",
   "execution_count": 29,
   "metadata": {},
   "outputs": [],
   "source": [
    "# 60plus"
   ]
  },
  {
   "cell_type": "code",
   "execution_count": 30,
   "metadata": {},
   "outputs": [],
   "source": [
    "df = pd.read_csv('../../ddf--datapoints--deaths_rate_ages_60plus_years--by--country--year--cause--sex.csv')\n",
    "\n",
    "df = df[df.sex == 0].drop('sex', axis=1)\n",
    "gs = df.groupby('cause', as_index=False)"
   ]
  },
  {
   "cell_type": "code",
   "execution_count": 31,
   "metadata": {},
   "outputs": [],
   "source": [
    "for g, df in gs:\n",
    "    if g == 'traffic':\n",
    "        name = 'traffic_mortality_60plus_per_100000_people'\n",
    "    elif g == 'suicide':\n",
    "        name = 'suicide_age_60plus_per_100000_people'\n",
    "    elif g == 'homicide':\n",
    "        name = 'murdered_60plus_per_100000_people'\n",
    "        \n",
    "    df_ = df.drop('cause', axis=1)\n",
    "    df_['country'] = df_['country'].map(country_mapping)\n",
    "    df_ = df_.dropna(subset=['country'])\n",
    "    df_.columns = ['geo', 'time', name]\n",
    "    \n",
    "    df_[name] = df_[name].map(format_func)\n",
    "    df_ = df_.sort_values(by=['geo', 'time'])\n",
    "    \n",
    "    df_.to_csv(osp.join(sgPath, f'ddf--datapoints--{name}--by--geo--time.csv'), index=False)"
   ]
  },
  {
   "cell_type": "code",
   "execution_count": null,
   "metadata": {},
   "outputs": [],
   "source": []
  },
  {
   "cell_type": "code",
   "execution_count": 32,
   "metadata": {},
   "outputs": [],
   "source": [
    "# allage\n",
    "\n",
    "df = pd.read_csv('../../ddf--datapoints--deaths_rate_all_ages--by--country--year--cause--sex.csv')\n",
    "\n",
    "# df = df[df.sex == 0].drop('sex', axis=1)\n",
    "gs = df.groupby('cause', as_index=False)"
   ]
  },
  {
   "cell_type": "code",
   "execution_count": 33,
   "metadata": {},
   "outputs": [],
   "source": [
    "def proc(df):\n",
    "    df_ = df.drop('cause', axis=1)\n",
    "    df_['country'] = df_['country'].map(country_mapping)\n",
    "    df_ = df_.dropna(subset=['country'])\n",
    "    return df_"
   ]
  },
  {
   "cell_type": "code",
   "execution_count": 34,
   "metadata": {},
   "outputs": [],
   "source": [
    "def proc_sex(df, sex, name):\n",
    "    df1 = df[df.sex == sex]\n",
    "    df1 = df1.drop('sex', axis=1)\n",
    "    df1.columns = ['geo', 'time', name]\n",
    "    df1[name] = df1[name].map(format_func)\n",
    "    \n",
    "    return df1.sort_values(by=['geo', 'time'])"
   ]
  },
  {
   "cell_type": "code",
   "execution_count": 35,
   "metadata": {},
   "outputs": [],
   "source": [
    "for g, df in gs:\n",
    "    \n",
    "    df_ = proc(df)\n",
    "    \n",
    "    if g == 'traffic':\n",
    "        sex = 0\n",
    "        name = 'traffic_deaths_per_100000_people'\n",
    "        df1 = proc_sex(df_, sex, name)\n",
    "        df1.to_csv(osp.join(sgPath, f'ddf--datapoints--{name}--by--geo--time.csv'), index=False)\n",
    "        \n",
    "        sex = 1\n",
    "        name = 'traffic_deaths_men_per_100000_people'\n",
    "        df1 = proc_sex(df_, sex, name)\n",
    "        df1.to_csv(osp.join(sgPath, f'ddf--datapoints--{name}--by--geo--time.csv'), index=False)\n",
    "        \n",
    "        sex = 2\n",
    "        name = 'traffic_deaths_women_per_100000_people'\n",
    "        df1 = proc_sex(df_, sex, name)\n",
    "        df1.to_csv(osp.join(sgPath, f'ddf--datapoints--{name}--by--geo--time.csv'), index=False)\n",
    "    elif g == 'suicide':\n",
    "        sex = 0\n",
    "        name = 'suicide_per_100000_people'\n",
    "        df1 = proc_sex(df_, sex, name)\n",
    "        df1.to_csv(osp.join(sgPath, f'ddf--datapoints--{name}--by--geo--time.csv'), index=False)\n",
    "        \n",
    "        sex = 1\n",
    "        name = 'suicide_men_per_100000_people'\n",
    "        df1 = proc_sex(df_, sex, name)\n",
    "        df1.to_csv(osp.join(sgPath, f'ddf--datapoints--{name}--by--geo--time.csv'), index=False)\n",
    "        \n",
    "        sex = 2\n",
    "        name = 'suicide_women_per_100000_people'\n",
    "        df1 = proc_sex(df_, sex, name)\n",
    "        df1.to_csv(osp.join(sgPath, f'ddf--datapoints--{name}--by--geo--time.csv'), index=False)\n",
    "    elif g == 'homicide':\n",
    "        sex = 0\n",
    "        name = 'murder_per_100000_people'\n",
    "        df1 = proc_sex(df_, sex, name)\n",
    "        df1.to_csv(osp.join(sgPath, f'ddf--datapoints--{name}--by--geo--time.csv'), index=False)\n",
    "        \n",
    "        sex = 1\n",
    "        name = 'murdered_men_per_100000_people'\n",
    "        df1 = proc_sex(df_, sex, name)\n",
    "        df1.to_csv(osp.join(sgPath, f'ddf--datapoints--{name}--by--geo--time.csv'), index=False)\n",
    "        \n",
    "        sex = 2\n",
    "        name = 'murdered_women_per_100000_people'\n",
    "        df1 = proc_sex(df_, sex, name)\n",
    "        df1.to_csv(osp.join(sgPath, f'ddf--datapoints--{name}--by--geo--time.csv'), index=False)\n",
    "    else:\n",
    "        raise ValueError('meh ' + g)"
   ]
  },
  {
   "cell_type": "code",
   "execution_count": null,
   "metadata": {},
   "outputs": [],
   "source": []
  },
  {
   "cell_type": "code",
   "execution_count": 36,
   "metadata": {},
   "outputs": [],
   "source": [
    "# total numbers"
   ]
  },
  {
   "cell_type": "code",
   "execution_count": 37,
   "metadata": {},
   "outputs": [],
   "source": [
    "df = pd.read_csv('../../ddf--datapoints--deaths_all_ages--by--country--year--cause--sex.csv')\n",
    "\n",
    "df = df[df.sex == 0].drop('sex', axis=1)\n",
    "gs = df.groupby('cause', as_index=False)"
   ]
  },
  {
   "cell_type": "code",
   "execution_count": 38,
   "metadata": {},
   "outputs": [],
   "source": [
    "for g, df in gs:\n",
    "    if g == 'traffic':\n",
    "        name = 'traffic_total_deaths'\n",
    "    elif g == 'suicide':\n",
    "        name = 'suicide_total_deaths'\n",
    "    elif g == 'homicide':\n",
    "        name = 'murder_total_deaths'\n",
    "        \n",
    "    df_ = df.drop('cause', axis=1)\n",
    "    df_['country'] = df_['country'].map(country_mapping)\n",
    "    df_ = df_.dropna(subset=['country'])\n",
    "    df_.columns = ['geo', 'time', name]\n",
    "    \n",
    "    df_[name] = df_[name].map(format_func)\n",
    "    df_ = df_.sort_values(by=['geo', 'time'])\n",
    "    \n",
    "    df_.to_csv(osp.join(sgPath, f'ddf--datapoints--{name}--by--geo--time.csv'), index=False)"
   ]
  },
  {
   "cell_type": "code",
   "execution_count": null,
   "metadata": {},
   "outputs": [],
   "source": []
  },
  {
   "cell_type": "code",
   "execution_count": 39,
   "metadata": {},
   "outputs": [
    {
     "data": {
      "text/html": [
       "<div>\n",
       "<style scoped>\n",
       "    .dataframe tbody tr th:only-of-type {\n",
       "        vertical-align: middle;\n",
       "    }\n",
       "\n",
       "    .dataframe tbody tr th {\n",
       "        vertical-align: top;\n",
       "    }\n",
       "\n",
       "    .dataframe thead th {\n",
       "        text-align: right;\n",
       "    }\n",
       "</style>\n",
       "<table border=\"1\" class=\"dataframe\">\n",
       "  <thead>\n",
       "    <tr style=\"text-align: right;\">\n",
       "      <th></th>\n",
       "      <th>country</th>\n",
       "      <th>name</th>\n",
       "      <th>geo</th>\n",
       "    </tr>\n",
       "  </thead>\n",
       "  <tbody>\n",
       "    <tr>\n",
       "      <th>60</th>\n",
       "      <td>2020</td>\n",
       "      <td>Argentina</td>\n",
       "      <td>arg</td>\n",
       "    </tr>\n",
       "  </tbody>\n",
       "</table>\n",
       "</div>"
      ],
      "text/plain": [
       "    country       name  geo\n",
       "60     2020  Argentina  arg"
      ]
     },
     "execution_count": 39,
     "metadata": {},
     "output_type": "execute_result"
    }
   ],
   "source": [
    "country[country.geo == 'arg']"
   ]
  },
  {
   "cell_type": "code",
   "execution_count": null,
   "metadata": {},
   "outputs": [],
   "source": []
  }
 ],
 "metadata": {
  "kernelspec": {
   "display_name": "Python 3",
   "language": "python",
   "name": "python3"
  },
  "language_info": {
   "codemirror_mode": {
    "name": "ipython",
    "version": 3
   },
   "file_extension": ".py",
   "mimetype": "text/x-python",
   "name": "python",
   "nbconvert_exporter": "python",
   "pygments_lexer": "ipython3",
   "version": "3.6.5"
  }
 },
 "nbformat": 4,
 "nbformat_minor": 2
}
